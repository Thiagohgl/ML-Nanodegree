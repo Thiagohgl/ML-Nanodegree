{
 "cells": [
  {
   "cell_type": "markdown",
   "metadata": {},
   "source": [
    "# Machine Learning Engineer Nanodegree\n",
    "## Supervised Learning\n",
    "## Project 2: Building a Student Intervention System"
   ]
  },
  {
   "cell_type": "markdown",
   "metadata": {},
   "source": [
    "Welcome to the second project of the Machine Learning Engineer Nanodegree! In this notebook, some template code has already been provided for you, and it will be your job to implement the additional functionality necessary to successfully complete this project. Sections that begin with **'Implementation'** in the header indicate that the following block of code will require additional functionality which you must provide. Instructions will be provided for each section and the specifics of the implementation are marked in the code block with a `'TODO'` statement. Please be sure to read the instructions carefully!\n",
    "\n",
    "In addition to implementing code, there will be questions that you must answer which relate to the project and your implementation. Each section where you will answer a question is preceded by a **'Question X'** header. Carefully read each question and provide thorough answers in the following text boxes that begin with **'Answer:'**. Your project submission will be evaluated based on your answers to each of the questions and the implementation you provide.  \n",
    "\n",
    ">**Note:** Code and Markdown cells can be executed using the **Shift + Enter** keyboard shortcut. In addition, Markdown cells can be edited by typically double-clicking the cell to enter edit mode."
   ]
  },
  {
   "cell_type": "markdown",
   "metadata": {},
   "source": [
    "### Question 1 - Classification vs. Regression\n",
    "*Your goal for this project is to identify students who might need early intervention before they fail to graduate. Which type of supervised learning problem is this, classification or regression? Why?*"
   ]
  },
  {
   "cell_type": "markdown",
   "metadata": {},
   "source": [
    "**Answer: ** Since we want to identify if a student may or may not need intervention, we have a binary discret output and, therefore, one can classify it as a classification problem."
   ]
  },
  {
   "cell_type": "markdown",
   "metadata": {},
   "source": [
    "## Exploring the Data\n",
    "Run the code cell below to load necessary Python libraries and load the student data. Note that the last column from this dataset, `'passed'`, will be our target label (whether the student graduated or didn't graduate). All other columns are features about each student."
   ]
  },
  {
   "cell_type": "code",
   "execution_count": 1,
   "metadata": {
    "collapsed": false
   },
   "outputs": [
    {
     "name": "stdout",
     "output_type": "stream",
     "text": [
      "Student data read successfully!\n"
     ]
    },
    {
     "data": {
      "text/html": [
       "<div>\n",
       "<table border=\"1\" class=\"dataframe\">\n",
       "  <thead>\n",
       "    <tr style=\"text-align: right;\">\n",
       "      <th></th>\n",
       "      <th>school</th>\n",
       "      <th>sex</th>\n",
       "      <th>age</th>\n",
       "      <th>address</th>\n",
       "      <th>famsize</th>\n",
       "      <th>Pstatus</th>\n",
       "      <th>Medu</th>\n",
       "      <th>Fedu</th>\n",
       "      <th>Mjob</th>\n",
       "      <th>Fjob</th>\n",
       "      <th>...</th>\n",
       "      <th>internet</th>\n",
       "      <th>romantic</th>\n",
       "      <th>famrel</th>\n",
       "      <th>freetime</th>\n",
       "      <th>goout</th>\n",
       "      <th>Dalc</th>\n",
       "      <th>Walc</th>\n",
       "      <th>health</th>\n",
       "      <th>absences</th>\n",
       "      <th>passed</th>\n",
       "    </tr>\n",
       "  </thead>\n",
       "  <tbody>\n",
       "    <tr>\n",
       "      <th>0</th>\n",
       "      <td>GP</td>\n",
       "      <td>F</td>\n",
       "      <td>18</td>\n",
       "      <td>U</td>\n",
       "      <td>GT3</td>\n",
       "      <td>A</td>\n",
       "      <td>4</td>\n",
       "      <td>4</td>\n",
       "      <td>at_home</td>\n",
       "      <td>teacher</td>\n",
       "      <td>...</td>\n",
       "      <td>no</td>\n",
       "      <td>no</td>\n",
       "      <td>4</td>\n",
       "      <td>3</td>\n",
       "      <td>4</td>\n",
       "      <td>1</td>\n",
       "      <td>1</td>\n",
       "      <td>3</td>\n",
       "      <td>6</td>\n",
       "      <td>no</td>\n",
       "    </tr>\n",
       "    <tr>\n",
       "      <th>1</th>\n",
       "      <td>GP</td>\n",
       "      <td>F</td>\n",
       "      <td>17</td>\n",
       "      <td>U</td>\n",
       "      <td>GT3</td>\n",
       "      <td>T</td>\n",
       "      <td>1</td>\n",
       "      <td>1</td>\n",
       "      <td>at_home</td>\n",
       "      <td>other</td>\n",
       "      <td>...</td>\n",
       "      <td>yes</td>\n",
       "      <td>no</td>\n",
       "      <td>5</td>\n",
       "      <td>3</td>\n",
       "      <td>3</td>\n",
       "      <td>1</td>\n",
       "      <td>1</td>\n",
       "      <td>3</td>\n",
       "      <td>4</td>\n",
       "      <td>no</td>\n",
       "    </tr>\n",
       "    <tr>\n",
       "      <th>2</th>\n",
       "      <td>GP</td>\n",
       "      <td>F</td>\n",
       "      <td>15</td>\n",
       "      <td>U</td>\n",
       "      <td>LE3</td>\n",
       "      <td>T</td>\n",
       "      <td>1</td>\n",
       "      <td>1</td>\n",
       "      <td>at_home</td>\n",
       "      <td>other</td>\n",
       "      <td>...</td>\n",
       "      <td>yes</td>\n",
       "      <td>no</td>\n",
       "      <td>4</td>\n",
       "      <td>3</td>\n",
       "      <td>2</td>\n",
       "      <td>2</td>\n",
       "      <td>3</td>\n",
       "      <td>3</td>\n",
       "      <td>10</td>\n",
       "      <td>yes</td>\n",
       "    </tr>\n",
       "    <tr>\n",
       "      <th>3</th>\n",
       "      <td>GP</td>\n",
       "      <td>F</td>\n",
       "      <td>15</td>\n",
       "      <td>U</td>\n",
       "      <td>GT3</td>\n",
       "      <td>T</td>\n",
       "      <td>4</td>\n",
       "      <td>2</td>\n",
       "      <td>health</td>\n",
       "      <td>services</td>\n",
       "      <td>...</td>\n",
       "      <td>yes</td>\n",
       "      <td>yes</td>\n",
       "      <td>3</td>\n",
       "      <td>2</td>\n",
       "      <td>2</td>\n",
       "      <td>1</td>\n",
       "      <td>1</td>\n",
       "      <td>5</td>\n",
       "      <td>2</td>\n",
       "      <td>yes</td>\n",
       "    </tr>\n",
       "    <tr>\n",
       "      <th>4</th>\n",
       "      <td>GP</td>\n",
       "      <td>F</td>\n",
       "      <td>16</td>\n",
       "      <td>U</td>\n",
       "      <td>GT3</td>\n",
       "      <td>T</td>\n",
       "      <td>3</td>\n",
       "      <td>3</td>\n",
       "      <td>other</td>\n",
       "      <td>other</td>\n",
       "      <td>...</td>\n",
       "      <td>no</td>\n",
       "      <td>no</td>\n",
       "      <td>4</td>\n",
       "      <td>3</td>\n",
       "      <td>2</td>\n",
       "      <td>1</td>\n",
       "      <td>2</td>\n",
       "      <td>5</td>\n",
       "      <td>4</td>\n",
       "      <td>yes</td>\n",
       "    </tr>\n",
       "  </tbody>\n",
       "</table>\n",
       "<p>5 rows × 31 columns</p>\n",
       "</div>"
      ],
      "text/plain": [
       "  school sex  age address famsize Pstatus  Medu  Fedu     Mjob      Fjob  \\\n",
       "0     GP   F   18       U     GT3       A     4     4  at_home   teacher   \n",
       "1     GP   F   17       U     GT3       T     1     1  at_home     other   \n",
       "2     GP   F   15       U     LE3       T     1     1  at_home     other   \n",
       "3     GP   F   15       U     GT3       T     4     2   health  services   \n",
       "4     GP   F   16       U     GT3       T     3     3    other     other   \n",
       "\n",
       "   ...   internet romantic  famrel  freetime  goout Dalc Walc health absences  \\\n",
       "0  ...         no       no       4         3      4    1    1      3        6   \n",
       "1  ...        yes       no       5         3      3    1    1      3        4   \n",
       "2  ...        yes       no       4         3      2    2    3      3       10   \n",
       "3  ...        yes      yes       3         2      2    1    1      5        2   \n",
       "4  ...         no       no       4         3      2    1    2      5        4   \n",
       "\n",
       "  passed  \n",
       "0     no  \n",
       "1     no  \n",
       "2    yes  \n",
       "3    yes  \n",
       "4    yes  \n",
       "\n",
       "[5 rows x 31 columns]"
      ]
     },
     "execution_count": 1,
     "metadata": {},
     "output_type": "execute_result"
    }
   ],
   "source": [
    "# Import libraries\n",
    "import numpy as np\n",
    "import pandas as pd\n",
    "from time import time\n",
    "from sklearn.metrics import f1_score\n",
    "\n",
    "# Read student data\n",
    "student_data = pd.read_csv(\"student-data.csv\")\n",
    "print \"Student data read successfully!\"\n",
    "\n",
    "student_data.head()"
   ]
  },
  {
   "cell_type": "markdown",
   "metadata": {},
   "source": [
    "### Implementation: Data Exploration\n",
    "Let's begin by investigating the dataset to determine how many students we have information on, and learn about the graduation rate among these students. In the code cell below, you will need to compute the following:\n",
    "- The total number of students, `n_students`.\n",
    "- The total number of features for each student, `n_features`.\n",
    "- The number of those students who passed, `n_passed`.\n",
    "- The number of those students who failed, `n_failed`.\n",
    "- The graduation rate of the class, `grad_rate`, in percent (%).\n"
   ]
  },
  {
   "cell_type": "code",
   "execution_count": 12,
   "metadata": {
    "collapsed": false
   },
   "outputs": [
    {
     "name": "stdout",
     "output_type": "stream",
     "text": [
      "Total number of students: 395\n",
      "Number of features: 30\n",
      "Number of students who passed: 265\n",
      "Number of students who failed: 130\n",
      "Graduation rate of the class: 67.09%\n"
     ]
    }
   ],
   "source": [
    "# TODO: Calculate number of students\n",
    "n_students = len(student_data.ix[:,-1])\n",
    "\n",
    "# TODO: Calculate number of features\n",
    "n_features = len(student_data.ix[1,:-1])\n",
    "\n",
    "# TODO: Calculate passing students\n",
    "n_passed = len(student_data[student_data['passed'] == 'yes'])\n",
    "\n",
    "# TODO: Calculate failing students\n",
    "n_failed = len(student_data[student_data['passed'] == 'no'])\n",
    "\n",
    "# TODO: Calculate graduation rate\n",
    "grad_rate = float(n_passed)/float(n_students)*100\n",
    "\n",
    "# Print the results\n",
    "print \"Total number of students: {}\".format(n_students)\n",
    "print \"Number of features: {}\".format(n_features)\n",
    "print \"Number of students who passed: {}\".format(n_passed)\n",
    "print \"Number of students who failed: {}\".format(n_failed)\n",
    "print \"Graduation rate of the class: {:.2f}%\".format(grad_rate)"
   ]
  },
  {
   "cell_type": "markdown",
   "metadata": {},
   "source": [
    "## Preparing the Data\n",
    "In this section, we will prepare the data for modeling, training and testing.\n",
    "\n",
    "### Identify feature and target columns\n",
    "It is often the case that the data you obtain contains non-numeric features. This can be a problem, as most machine learning algorithms expect numeric data to perform computations with.\n",
    "\n",
    "Run the code cell below to separate the student data into feature and target columns to see if any features are non-numeric."
   ]
  },
  {
   "cell_type": "code",
   "execution_count": 2,
   "metadata": {
    "collapsed": false
   },
   "outputs": [
    {
     "name": "stdout",
     "output_type": "stream",
     "text": [
      "Feature columns:\n",
      "['school', 'sex', 'age', 'address', 'famsize', 'Pstatus', 'Medu', 'Fedu', 'Mjob', 'Fjob', 'reason', 'guardian', 'traveltime', 'studytime', 'failures', 'schoolsup', 'famsup', 'paid', 'activities', 'nursery', 'higher', 'internet', 'romantic', 'famrel', 'freetime', 'goout', 'Dalc', 'Walc', 'health', 'absences']\n",
      "\n",
      "Target column: passed\n",
      "\n",
      "Feature values:\n",
      "  school sex  age address famsize Pstatus  Medu  Fedu     Mjob      Fjob  \\\n",
      "0     GP   F   18       U     GT3       A     4     4  at_home   teacher   \n",
      "1     GP   F   17       U     GT3       T     1     1  at_home     other   \n",
      "2     GP   F   15       U     LE3       T     1     1  at_home     other   \n",
      "3     GP   F   15       U     GT3       T     4     2   health  services   \n",
      "4     GP   F   16       U     GT3       T     3     3    other     other   \n",
      "\n",
      "    ...    higher internet  romantic  famrel  freetime goout Dalc Walc health  \\\n",
      "0   ...       yes       no        no       4         3     4    1    1      3   \n",
      "1   ...       yes      yes        no       5         3     3    1    1      3   \n",
      "2   ...       yes      yes        no       4         3     2    2    3      3   \n",
      "3   ...       yes      yes       yes       3         2     2    1    1      5   \n",
      "4   ...       yes       no        no       4         3     2    1    2      5   \n",
      "\n",
      "  absences  \n",
      "0        6  \n",
      "1        4  \n",
      "2       10  \n",
      "3        2  \n",
      "4        4  \n",
      "\n",
      "[5 rows x 30 columns]\n"
     ]
    }
   ],
   "source": [
    "# Extract feature columns\n",
    "feature_cols = list(student_data.columns[:-1])\n",
    "\n",
    "# Extract target column 'passed'\n",
    "target_col = student_data.columns[-1] \n",
    "\n",
    "# Show the list of columns\n",
    "print \"Feature columns:\\n{}\".format(feature_cols)\n",
    "print \"\\nTarget column: {}\".format(target_col)\n",
    "\n",
    "# Separate the data into feature data and target data (X_all and y_all, respectively)\n",
    "X_all = student_data[feature_cols]\n",
    "y_all = student_data[target_col]\n",
    "\n",
    "# Show the feature information by printing the first five rows\n",
    "print \"\\nFeature values:\"\n",
    "print X_all.head()"
   ]
  },
  {
   "cell_type": "markdown",
   "metadata": {},
   "source": [
    "### Preprocess Feature Columns\n",
    "\n",
    "As you can see, there are several non-numeric columns that need to be converted! Many of them are simply `yes`/`no`, e.g. `internet`. These can be reasonably converted into `1`/`0` (binary) values.\n",
    "\n",
    "Other columns, like `Mjob` and `Fjob`, have more than two values, and are known as _categorical variables_. The recommended way to handle such a column is to create as many columns as possible values (e.g. `Fjob_teacher`, `Fjob_other`, `Fjob_services`, etc.), and assign a `1` to one of them and `0` to all others.\n",
    "\n",
    "These generated columns are sometimes called _dummy variables_, and we will use the [`pandas.get_dummies()`](http://pandas.pydata.org/pandas-docs/stable/generated/pandas.get_dummies.html?highlight=get_dummies#pandas.get_dummies) function to perform this transformation. Run the code cell below to perform the preprocessing routine discussed in this section."
   ]
  },
  {
   "cell_type": "code",
   "execution_count": 3,
   "metadata": {
    "collapsed": false
   },
   "outputs": [
    {
     "name": "stdout",
     "output_type": "stream",
     "text": [
      "Processed feature columns (48 total features):\n",
      "['school_GP', 'school_MS', 'sex_F', 'sex_M', 'age', 'address_R', 'address_U', 'famsize_GT3', 'famsize_LE3', 'Pstatus_A', 'Pstatus_T', 'Medu', 'Fedu', 'Mjob_at_home', 'Mjob_health', 'Mjob_other', 'Mjob_services', 'Mjob_teacher', 'Fjob_at_home', 'Fjob_health', 'Fjob_other', 'Fjob_services', 'Fjob_teacher', 'reason_course', 'reason_home', 'reason_other', 'reason_reputation', 'guardian_father', 'guardian_mother', 'guardian_other', 'traveltime', 'studytime', 'failures', 'schoolsup', 'famsup', 'paid', 'activities', 'nursery', 'higher', 'internet', 'romantic', 'famrel', 'freetime', 'goout', 'Dalc', 'Walc', 'health', 'absences']\n"
     ]
    },
    {
     "data": {
      "image/png": "[encoded data removed]",
      "text/plain": [
       "<matplotlib.figure.Figure at 0xbb5c898>"
      ]
     },
     "metadata": {},
     "output_type": "display_data"
    },
    {
     "data": {
      "image/png": "[encoded data removed]",
      "text/plain": [
       "<matplotlib.figure.Figure at 0xbebda20>"
      ]
     },
     "metadata": {},
     "output_type": "display_data"
    }
   ],
   "source": [
    "\n",
    "def preprocess_features(X):\n",
    "    ''' Preprocesses the student data and converts non-numeric binary variables into\n",
    "        binary (0/1) variables. Converts categorical variables into dummy variables. '''\n",
    "    \n",
    "    # Initialize new output DataFrame\n",
    "    output = pd.DataFrame(index = X.index)\n",
    "\n",
    "    # Investigate each feature column for the data\n",
    "    for col, col_data in X.iteritems():\n",
    "        \n",
    "        # If data type is non-numeric, replace all yes/no values with 1/0\n",
    "        if col_data.dtype == object:\n",
    "            col_data = col_data.replace(['yes', 'no'], [1, 0])\n",
    "\n",
    "        # If data type is categorical, convert to dummy variables\n",
    "        if col_data.dtype == object:\n",
    "            # Example: 'school' => 'school_GP' and 'school_MS'\n",
    "            col_data = pd.get_dummies(col_data, prefix = col)  \n",
    "        \n",
    "        # Collect the revised columns\n",
    "        output = output.join(col_data)\n",
    "    \n",
    "    return output\n",
    "\n",
    "X_all = preprocess_features(X_all)\n",
    "print \"Processed feature columns ({} total features):\\n{}\".format(len(X_all.columns), list(X_all.columns))\n",
    "\n",
    "# Graph the features\n",
    "import matplotlib.pyplot as plt\n",
    "%matplotlib inline\n",
    "\n",
    "# Properties histogram. I wanted to play a little with the data visualization for curiosity\n",
    "Passed = X_all[y_all == 'yes']\n",
    "Not_Passed = X_all[y_all == 'no']\n",
    "\n",
    "Choosed_feature = 'traveltime'\n",
    "plt.hist(Passed[Choosed_feature],alpha=0.7)\n",
    "plt.hist(Not_Passed[Choosed_feature],alpha=0.7)\n",
    "plt.legend({'Passed','Not Passed'})\n",
    "plt.xlabel(Choosed_feature)\n",
    "plt.ylabel('Number of students')\n",
    "plt.show()\n",
    "\n",
    "# Gender\n",
    "plt.hist(Passed['sex_F'][(Passed['sex_F'] == 1)],alpha=0.7,color='b')\n",
    "plt.hist(Not_Passed['sex_F'][(Not_Passed['sex_F'] == 1)]+0.25,alpha=0.7,color='y')\n",
    "\n",
    "plt.hist(Passed['sex_M'][(Passed['sex_M'] == 1)]+1,alpha=0.7,color='b')\n",
    "plt.hist(Not_Passed['sex_M'][(Not_Passed['sex_M'] == 1)]+1.25,alpha=0.7,color='y')\n",
    "\n",
    "plt.legend({'Passed','Not Passed'})\n",
    "plt.xlabel('Sex')\n",
    "plt.ylabel('Number of students')\n",
    "plt.xticks([1.25,2.25],{'Female','Male'})\n",
    "plt.show()\n",
    "\n"
   ]
  },
  {
   "cell_type": "markdown",
   "metadata": {},
   "source": [
    "\n",
    "### Implementation: Training and Testing Data Split\n",
    "So far, we have converted all _categorical_ features into numeric values. For the next step, we split the data (both features and corresponding labels) into training and test sets. In the following code cell below, you will need to implement the following:\n",
    "- Randomly shuffle and split the data (`X_all`, `y_all`) into training and testing subsets.\n",
    "  - Use 300 training points (approximately 75%) and 95 testing points (approximately 25%).\n",
    "  - Set a `random_state` for the function(s) you use, if provided.\n",
    "  - Store the results in `X_train`, `X_test`, `y_train`, and `y_test`."
   ]
  },
  {
   "cell_type": "code",
   "execution_count": 4,
   "metadata": {
    "collapsed": false
   },
   "outputs": [
    {
     "name": "stdout",
     "output_type": "stream",
     "text": [
      "Training set has 300 samples.\n",
      "Testing set has 95 samples.\n",
      "[ 0.77491455  0.03418989  0.02801583  0.02369683  0.01698655  0.01391185\n",
      "  0.01079184  0.00857924  0.00787206  0.0068158 ]\n"
     ]
    }
   ],
   "source": [
    "from sklearn.model_selection import train_test_split\n",
    "\n",
    "# TODO: Set the number of training points\n",
    "num_train = 300\n",
    "\n",
    "# Set the number of testing points\n",
    "num_test = X_all.shape[0] - num_train\n",
    "\n",
    "# TODO: Shuffle and split the dataset into the number of training and testing points above\n",
    "#X_train = None\n",
    "#X_test = None\n",
    "#y_train = None\n",
    "#y_test = None\n",
    "\n",
    "# Covert to numeric already in the beggining\n",
    "y_all = y_all.replace(['yes', 'no'], [1, 0])\n",
    "X_all = X_all.values\n",
    "\n",
    "X_train, X_test, y_train, y_test = train_test_split(X_all, y_all, test_size=num_test, train_size=num_train,random_state=1011010)\n",
    "\n",
    "# Show the results of the split\n",
    "print \"Training set has {} samples.\".format(X_train.shape[0])\n",
    "print \"Testing set has {} samples.\".format(X_test.shape[0])\n",
    "\n",
    "\n",
    "# Check how much the features dimensionality are really important (curiosity)\n",
    "from sklearn.decomposition import PCA\n",
    "\n",
    "pca = PCA(n_components=10)\n",
    "pca.fit(X_all)\n",
    "print(pca.explained_variance_ratio_) \n"
   ]
  },
  {
   "cell_type": "code",
   "execution_count": 13,
   "metadata": {
    "collapsed": false
   },
   "outputs": [],
   "source": [
    "X_test_csv = pd.DataFrame(X_test)\n",
    "X_test_csv.to_csv('X_test.csv',index=False)\n",
    "\n",
    "X_all_csv = pd.DataFrame(y_test)\n",
    "X_all_csv.to_csv('y_test.csv',index=False)\n",
    "\n",
    "X_afall_csv = pd.DataFrame(X_train)\n",
    "X_afall_csv.to_csv('X_train.csv',index=False)\n",
    "\n",
    "X_algrl_csv = pd.DataFrame(y_train)\n",
    "X_algrl_csv.to_csv('y_train.csv',index=False)"
   ]
  },
  {
   "cell_type": "markdown",
   "metadata": {},
   "source": [
    "## Training and Evaluating Models\n",
    "In this section, you will choose 3 supervised learning models that are appropriate for this problem and available in `scikit-learn`. You will first discuss the reasoning behind choosing these three models by considering what you know about the data and each model's strengths and weaknesses. You will then fit the model to varying sizes of training data (100 data points, 200 data points, and 300 data points) and measure the F<sub>1</sub> score. You will need to produce three tables (one for each model) that shows the training set size, training time, prediction time, F<sub>1</sub> score on the training set, and F<sub>1</sub> score on the testing set.\n",
    "\n",
    "**The following supervised learning models are currently available in** [`scikit-learn`](http://scikit-learn.org/stable/supervised_learning.html) **that you may choose from:**\n",
    "- Gaussian Naive Bayes (GaussianNB)\n",
    "- Decision Trees\n",
    "- Ensemble Methods (Bagging, AdaBoost, Random Forest, Gradient Boosting)\n",
    "- K-Nearest Neighbors (KNeighbors)\n",
    "- Stochastic Gradient Descent (SGDC)\n",
    "- Support Vector Machines (SVM)\n",
    "- Logistic Regression"
   ]
  },
  {
   "cell_type": "markdown",
   "metadata": {},
   "source": [
    "### Question 2 - Model Application\n",
    "*List three supervised learning models that are appropriate for this problem. For each model chosen*\n",
    "- Describe one real-world application in industry where the model can be applied. *(You may need to do a small bit of research for this — give references!)* \n",
    "- What are the strengths of the model; when does it perform well? \n",
    "- What are the weaknesses of the model; when does it perform poorly?\n",
    "- What makes this model a good candidate for the problem, given what you know about the data?"
   ]
  },
  {
   "cell_type": "markdown",
   "metadata": {},
   "source": [
    "**Answer: ** The selected models were: SVM, K-Nearest Neighbors and Random forest.\n",
    "\n",
    "**SMV:** The SVM is very nice to make a good separation for the labels maximizing the margin between the decision boundary and can work even with non linear boundarys with the flexibility of a well chosed kernel. It performs well when there's not so much noise in the data and the data set is not so big (because the calculation time grows cubic) and the selected kernel is appropriate for the problem. Since the data is somewhat controled (a school system) as well as the features aren't so much prone to error (Sex,Age,Family size,etc), the data set could be said to not have so much noise and is also not so big , therefore SVM seems a reasonable choice for the problem if we are able to play a little with the kernels. One industrial use of the SVM is in Chemistry, as drug design, chemometrics, chemical engineering etc. **Source: Applications of Support Vector Machines in Chemistry. link: http://www.ivanciuc.org/Files/Reprint/Ivanciuc_Applications_of_Support_Vector_Machines_in_Chemistry.pdf. 10/05/2016**\n",
    "\n",
    "\n",
    "**K-Nearest Neighbors:** KNN makes the assumption that samples with similar features have similar classes, it is very simple, both to implement as also to explain and has the advantage of easily adapting to new data, it performs very well when the dimensionality i.e number of features is not so high. When the features are too many, however, it becomes hard to find similar points near each other and the quantity of necessary points for it becomes exponentially larger with the number of features. I believe this is a good cadidate for the problem because the number of features is not so high, and it is reasobable to think that students that don't pass could have some similarities like small studying time, higher number of failures, longer time to get to school and so on. It is also quick and don't demands so much computational power. One industrial use of KNN is Fault Detection in semiconductor manufacture. **Source: Fault Detection Using the k-Nearest Neighbor Rule for Semiconductor Manufacturing Processes. link: https://www.researchgate.net/publication/3284325_Fault_Detection_Using_the_k-Nearest_Neighbor_Rule_for_Semiconductor_Manufacturing_Processes. 10/05/2016 **\n",
    "\n",
    "**Random forest: ** The use of a decision trees emsemble can reduce the overfit with a high number of learners, which is a negative feature of decision trees alone, it can however still overfit, specially when the data is much noisy or has a lot of features with not so many samples. A Random forest can adapat to both linear and non linear separable data and can be also somewhat easily interpreted(http://blog.datadive.net/random-forest-interpretation-with-scikit-learn/ . in 6/10/2016). As I don't know how the decision boundaries from that data are, an algorithm that adapts to any of them is a reasonable choice, and since, as said before, the data can be expect to not have so much noise, it seems a nice choice for that problem if the other ones that need less computation cost don't work so well. One industrial use of Random forest is mapping and exploring of forest (haha) extends through satellite data. **Source: The Performance of Random Forests in an Operational Setting for Large Area Sclerophyll Forest Classification. link: https://www.google.com.br/url?sa=t&rct=j&q=&esrc=s&source=web&cd=2&cad=rja&uact=8&ved=0ahUKEwizusn10sTPAhVEDZAKHUiHD_sQFggqMAE&url=http%3A%2F%2Fwww.mdpi.com%2F2072-4292%2F5%2F6%2F2838%2Fpdf&usg=AFQjCNHJuyBZpTxi6HqbheGVEFLkjcKt6A&sig2=ZEDOTjIB6HwNMfxvi6lg0A&bvm=bv.134495766,d.Y2I. 10/05/2016 **\n",
    "\n"
   ]
  },
  {
   "cell_type": "markdown",
   "metadata": {},
   "source": [
    "### Setup\n",
    "Run the code cell below to initialize three helper functions which you can use for training and testing the three supervised learning models you've chosen above. The functions are as follows:\n",
    "- `train_classifier` - takes as input a classifier and training data and fits the classifier to the data.\n",
    "- `predict_labels` - takes as input a fit classifier, features, and a target labeling and makes predictions using the F<sub>1</sub> score.\n",
    "- `train_predict` - takes as input a classifier, and the training and testing data, and performs `train_clasifier` and `predict_labels`.\n",
    " - This function will report the F<sub>1</sub> score for both the training and testing data separately."
   ]
  },
  {
   "cell_type": "code",
   "execution_count": 17,
   "metadata": {
    "collapsed": false
   },
   "outputs": [],
   "source": [
    "def train_classifier(clf, X_train, y_train):\n",
    "    ''' Fits a classifier to the training data. '''\n",
    "    \n",
    "    # Start the clock, train the classifier, then stop the clock\n",
    "    start = time()\n",
    "    clf.fit(X_train, y_train)\n",
    "    end = time()\n",
    "    \n",
    "    # Print the results\n",
    "    print \"Trained model in {:.4f} seconds\".format(end - start)\n",
    "\n",
    "    \n",
    "def predict_labels(clf, features, target):\n",
    "    ''' Makes predictions using a fit classifier based on F1 score. '''\n",
    "    \n",
    "    # Start the clock, make predictions, then stop the clock\n",
    "    start = time()\n",
    "    y_pred = clf.predict(features)\n",
    "    end = time()\n",
    "    \n",
    "    # Print and return results\n",
    "    print \"Made predictions in {:.4f} seconds.\".format(end - start)\n",
    "    return f1_score(target, y_pred) #, pos_label='yes'\n",
    "\n",
    "\n",
    "def train_predict(clf, X_train, y_train, X_test, y_test):\n",
    "    ''' Train and predict using a classifer based on F1 score. '''\n",
    "    \n",
    "    # Indicate the classifier and the training set size\n",
    "    print \"Training a {} using a training set size of {}. . .\".format(clf.__class__.__name__, len(X_train))\n",
    "    \n",
    "    # Train the classifier\n",
    "    train_classifier(clf, X_train, y_train)\n",
    "    \n",
    "    # Print the results of prediction for both training and testing\n",
    "    print \"F1 score for training set: {:.4f}.\".format(predict_labels(clf, X_train, y_train))\n",
    "    print \"F1 score for test set: {:.4f}.\".format(predict_labels(clf, X_test, y_test))\n",
    "    \n",
    "    Error_train = predict_labels(clf, X_train, y_train)\n",
    "    Error_test = predict_labels(clf, X_test, y_test)\n",
    "    return Error_train,Error_test"
   ]
  },
  {
   "cell_type": "markdown",
   "metadata": {},
   "source": [
    "### Implementation: Model Performance Metrics\n",
    "With the predefined functions above, you will now import the three supervised learning models of your choice and run the `train_predict` function for each one. Remember that you will need to train and predict on each classifier for three different training set sizes: 100, 200, and 300. Hence, you should expect to have 9 different outputs below — 3 for each model using the varying training set sizes. In the following code cell, you will need to implement the following:\n",
    "- Import the three supervised learning models you've discussed in the previous section.\n",
    "- Initialize the three models and store them in `clf_A`, `clf_B`, and `clf_C`.\n",
    " - Use a `random_state` for each model you use, if provided.\n",
    " - **Note:** Use the default settings for each model — you will tune one specific model in a later section.\n",
    "- Create the different training set sizes to be used to train each model.\n",
    " - *Do not reshuffle and resplit the data! The new training points should be drawn from `X_train` and `y_train`.*\n",
    "- Fit each model with each training set size and make predictions on the test set (9 in total).  \n",
    "**Note:** Three tables are provided after the following code cell which can be used to store your results."
   ]
  },
  {
   "cell_type": "code",
   "execution_count": 19,
   "metadata": {
    "collapsed": false
   },
   "outputs": [
    {
     "name": "stdout",
     "output_type": "stream",
     "text": [
      "SVM\n",
      "     100\n",
      "Training a SVC using a training set size of 100. . .\n",
      "Trained model in 0.0010 seconds\n",
      "Made predictions in 0.0010 seconds.\n",
      "F1 score for training set: 0.9265.\n",
      "Made predictions in 0.0010 seconds.\n",
      "F1 score for test set: 0.7500.\n",
      "Made predictions in 0.0010 seconds.\n",
      "Made predictions in 0.0010 seconds.\n",
      "     200\n",
      "Training a SVC using a training set size of 200. . .\n",
      "Trained model in 0.0030 seconds\n",
      "Made predictions in 0.0030 seconds.\n",
      "F1 score for training set: 0.9078.\n",
      "Made predictions in 0.0010 seconds.\n",
      "F1 score for test set: 0.7843.\n",
      "Made predictions in 0.0020 seconds.\n",
      "Made predictions in 0.0010 seconds.\n",
      "     300\n",
      "Training a SVC using a training set size of 300. . .\n",
      "Trained model in 0.0050 seconds\n",
      "Made predictions in 0.0050 seconds.\n",
      "F1 score for training set: 0.8821.\n",
      "Made predictions in 0.0020 seconds.\n",
      "F1 score for test set: 0.7949.\n",
      "Made predictions in 0.0050 seconds.\n",
      "Made predictions in 0.0020 seconds.\n",
      "\n",
      "Random Forest\n",
      "     100\n",
      "Training a RandomForestClassifier using a training set size of 100. . .\n",
      "Trained model in 0.0250 seconds\n",
      "Made predictions in 0.0050 seconds.\n",
      "F1 score for training set: 0.9920.\n",
      "Made predictions in 0.0050 seconds.\n",
      "F1 score for test set: 0.6870.\n",
      "Made predictions in 0.0050 seconds.\n",
      "Made predictions in 0.0050 seconds.\n",
      "     200\n",
      "Training a RandomForestClassifier using a training set size of 200. . .\n",
      "Trained model in 0.0210 seconds\n",
      "Made predictions in 0.0060 seconds.\n",
      "F1 score for training set: 0.9888.\n",
      "Made predictions in 0.0080 seconds.\n",
      "F1 score for test set: 0.7218.\n",
      "Made predictions in 0.0050 seconds.\n",
      "Made predictions in 0.0050 seconds.\n",
      "     300\n",
      "Training a RandomForestClassifier using a training set size of 300. . .\n",
      "Trained model in 0.0210 seconds\n",
      "Made predictions in 0.0060 seconds.\n",
      "F1 score for training set: 0.9950.\n",
      "Made predictions in 0.0050 seconds.\n",
      "F1 score for test set: 0.7015.\n",
      "Made predictions in 0.0060 seconds.\n",
      "Made predictions in 0.0050 seconds.\n",
      "\n",
      "K-NN\n",
      "     100\n",
      "Training a KNeighborsClassifier using a training set size of 100. . .\n",
      "Trained model in 0.0000 seconds\n",
      "Made predictions in 0.0020 seconds.\n",
      "F1 score for training set: 0.8759.\n",
      "Made predictions in 0.0020 seconds.\n",
      "F1 score for test set: 0.6906.\n",
      "Made predictions in 0.0010 seconds.\n",
      "Made predictions in 0.0010 seconds.\n",
      "     200\n",
      "Training a KNeighborsClassifier using a training set size of 200. . .\n",
      "Trained model in 0.0010 seconds\n",
      "Made predictions in 0.0020 seconds.\n",
      "F1 score for training set: 0.8881.\n",
      "Made predictions in 0.0020 seconds.\n",
      "F1 score for test set: 0.7391.\n",
      "Made predictions in 0.0030 seconds.\n",
      "Made predictions in 0.0010 seconds.\n",
      "     300\n",
      "Training a KNeighborsClassifier using a training set size of 300. . .\n",
      "Trained model in 0.0000 seconds\n",
      "Made predictions in 0.0060 seconds.\n",
      "F1 score for training set: 0.8584.\n",
      "Made predictions in 0.0020 seconds.\n",
      "F1 score for test set: 0.7755.\n",
      "Made predictions in 0.0070 seconds.\n",
      "Made predictions in 0.0030 seconds.\n"
     ]
    },
    {
     "data": {
      "image/png": "[encoded data removed]",
      "text/plain": [
       "<matplotlib.figure.Figure at 0x25f3630>"
      ]
     },
     "metadata": {},
     "output_type": "display_data"
    }
   ],
   "source": [
    "# TODO: Import the three supervised learning models from sklearn\n",
    "from sklearn.svm import SVC\n",
    "from sklearn.neighbors import KNeighborsClassifier\n",
    "from sklearn.ensemble import RandomForestClassifier\n",
    "\n",
    "\n",
    "# TODO: Initialize the three models\n",
    "clf_A = SVC(random_state = 23)\n",
    "clf_B = RandomForestClassifier(random_state = 23)\n",
    "clf_C = KNeighborsClassifier() \n",
    "\n",
    "# TODO: Set up the training set sizes\n",
    "X_train_100 = X_train[0:100,:]\n",
    "y_train_100 = y_train[:100]\n",
    "\n",
    "X_train_200 = X_train[:200,:]\n",
    "y_train_200 = y_train[:200]\n",
    "\n",
    "X_train_300 = X_train\n",
    "y_train_300 = y_train\n",
    "\n",
    "# TODO: Execute the 'train_predict' function for each classifier and each training set size\n",
    "Error_train = np.zeros((3,3))\n",
    "Error_test = np.zeros((3,3))\n",
    "\n",
    "# SVM\n",
    "print 'SVM'\n",
    "print '     100'\n",
    "Error_train[0,0],Error_test[0,0] = train_predict(clf_A, X_train_100, y_train_100, X_test, y_test)\n",
    "print '     200'\n",
    "\n",
    "Error_train[0,1],Error_test[0,1] = train_predict(clf_A, X_train_200, y_train_200, X_test, y_test)\n",
    "print '     300'\n",
    "\n",
    "Error_train[0,2],Error_test[0,2] = train_predict(clf_A, X_train_300, y_train_300, X_test, y_test)\n",
    "\n",
    "print''\n",
    "# Random Forest\n",
    "print 'Random Forest'\n",
    "print '     100'\n",
    "\n",
    "Error_train[1,0],Error_test[1,0] =  train_predict(clf_B, X_train_100, y_train_100, X_test, y_test)\n",
    "print '     200'\n",
    "\n",
    "Error_train[1,1],Error_test[1,1] = train_predict(clf_B, X_train_200, y_train_200, X_test, y_test)\n",
    "print '     300'\n",
    "\n",
    "Error_train[1,2],Error_test[1,2] = train_predict(clf_B, X_train_300, y_train_300, X_test, y_test)\n",
    "print''\n",
    "\n",
    "# KNN\n",
    "print 'K-NN'\n",
    "print '     100'\n",
    "\n",
    "Error_train[2,0],Error_test[2,0] = train_predict(clf_C, X_train_100, y_train_100, X_test, y_test)\n",
    "print '     200'\n",
    "\n",
    "Error_train[2,1],Error_test[2,1] = train_predict(clf_C, X_train_200, y_train_200, X_test, y_test)\n",
    "print '     300'\n",
    "\n",
    "Error_train[2,2],Error_test[2,2] = train_predict(clf_C, X_train_300, y_train_300, X_test, y_test)\n",
    "\n",
    "import matplotlib.pyplot as plt\n",
    "%matplotlib inline\n",
    "plt.bar(np.array([1,2,3]),Error_train[:,2])\n",
    "plt.bar(np.array([1,2,3]),Error_test[:,2])\n",
    "plt.xticks([1,2,3],{'SVM','Random Forest','K-NN'})\n",
    "plt.legend({'Acurracy Train','Acurracy Test'},loc='lower center')\n",
    "plt.ylabel('F1 score')\n",
    "plt.xlabel('Classifier')\n",
    "plt.show()\n",
    "\n",
    "\n",
    "#y_score_svm = clf_A.fit(X_train_300,y_train_300.decision_function(X_test))\n",
    "\n",
    "#y_score = clf_C.predict_proba(X_test)#.decision_function(X_test)\n",
    "#fpr, tpr, _ = roc_curve(y_test,y_score[:,1])\n",
    "#roc_auc = auc(fpr, tpr)\n",
    "\n",
    "# Compute micro-average ROC curve and ROC area\n",
    "#fpr[\"micro\"], tpr[\"micro\"], _ = roc_curve(y_test.ravel(), y_score.ravel())\n",
    "#roc_auc[\"micro\"] = auc(fpr[\"micro\"], tpr[\"micro\"])\n",
    "\n",
    "#plt.figure()\n",
    "#lw = 2\n",
    "#plt.plot(fpr, tpr, color='darkorange',\n",
    "#         lw=lw, label='ROC curve (area = %0.2f)' % roc_auc)\n",
    "#plt.plot([0, 1], [0, 1], color='navy', lw=lw, linestyle='--')\n",
    "#plt.xlim([0.0, 1.0])\n",
    "#plt.ylim([0.0, 1.05])\n",
    "#plt.xlabel('False Positive Rate')\n",
    "#plt.ylabel('True Positive Rate')\n",
    "#plt.title('Receiver operating characteristic example')\n",
    "#plt.legend(loc=\"lower right\")\n",
    "#plt.show()\n",
    "\n",
    "#print fpr,tpr"
   ]
  },
  {
   "cell_type": "markdown",
   "metadata": {},
   "source": [
    "### Tabular Results\n",
    "Edit the cell below to see how a table can be designed in [Markdown](https://github.com/adam-p/markdown-here/wiki/Markdown-Cheatsheet#tables). You can record your results from above in the tables provided."
   ]
  },
  {
   "cell_type": "markdown",
   "metadata": {},
   "source": [
    "** Classifer 1 - SVM**  \n",
    "\n",
    "| Training Set Size | Training Time | Prediction Time (test) | F1 Score (train) | F1 Score (test) |\n",
    "| :---------------: | :---------------------: | :--------------------: | :--------------: | :-------------: |\n",
    "| 100               |            0.001             |      0.001                  |     0.9265             |     0.75            |\n",
    "| 200               |        0.003          |             0.001           |     0.9078             |      0.7843           |\n",
    "| 300               |          0.005               |       0.001                 |     0.8821             |    0.7949      |\n",
    "\n",
    "** Classifer 2 - Random Forest**  \n",
    "\n",
    "| Training Set Size | Training Time | Prediction Time (test) | F1 Score (train) | F1 Score (test) |\n",
    "| :---------------: | :---------------------: | :--------------------: | :--------------: | :-------------: |\n",
    "| 100               |       0.02                  |      0.007                  |     0.9992             |     0.687            |\n",
    "| 200               |     0.021            |         0.008               |       0.9888           |      0.7218           |\n",
    "| 300               |       0.023                  |         0.007               |     0.995             |     0.7015     |\n",
    "\n",
    "** Classifer 3 - K-NN **  \n",
    "\n",
    "| Training Set Size | Training Time | Prediction Time (test) | F1 Score (train) | F1 Score (test) |\n",
    "| :---------------: | :---------------------: | :--------------------: | :--------------: | :-------------: |\n",
    "| 100               |      0                   |      0.002                  |   0.8759              |    0.6906             |\n",
    "| 200               |     0                    |       0.003                 |    0.8881              |    0.7391             |\n",
    "| 300               |       0.2                  |       0.003                 |      0.8584            |    0.755             |"
   ]
  },
  {
   "cell_type": "markdown",
   "metadata": {},
   "source": [
    "## Choosing the Best Model\n",
    "In this final section, you will choose from the three supervised learning models the *best* model to use on the student data. You will then perform a grid search optimization for the model over the entire training set (`X_train` and `y_train`) by tuning at least one parameter to improve upon the untuned model's F<sub>1</sub> score. "
   ]
  },
  {
   "cell_type": "markdown",
   "metadata": {},
   "source": [
    "### Question 3 - Choosing the Best Model\n",
    "*Based on the experiments you performed earlier, in one to two paragraphs, explain to the board of supervisors what single model you chose as the best model. Which model is generally the most appropriate based on the available data, limited resources, cost, and performance?*"
   ]
  },
  {
   "cell_type": "markdown",
   "metadata": {},
   "source": [
    " **note**: I wouldn't feel good in choosing the 'best' model with just a default parameter test, I don't think it can give enough information in the sense of which model is the best, to a real and concise answer to that matter, I believe one would have to test the best possible outcome for each model, but since that is not the goal of the question, I will answer as in supporting the best test outcome. \n",
    "\n",
    "**Answer: ** \"Well, before we even start to analyze the results we need to define what is important and what is not to define the best model. We should divide our available data in train and testing, so we can check how well our model can generalize, and since train score is very prone to overfit, the test score should be used as an evaluator for the accuracy and performance of our model.The training time has not so much importance as long as it is not absurdly long, because it will only be calculated once, therefore the prediction time should be used, reducing it the most will led us to less cost and less use of resources. Looking at the results we can cleary perceive that the SVM is better both in the accuracy as also in the prediction time, giving the best perfomace and lower cost, therefore it seems as the most reasonable choice for that problem. \""
   ]
  },
  {
   "cell_type": "markdown",
   "metadata": {},
   "source": [
    "### Question 4 - Model in Layman's Terms\n",
    "*In one to two paragraphs, explain to the board of directors in layman's terms how the final model chosen is supposed to work. Be sure that you are describing the major qualities of the model, such as how the model is trained and how the model makes a prediction. Avoid using advanced mathematical or technical jargon, such as describing equations or discussing the algorithm implementation.*"
   ]
  },
  {
   "cell_type": "markdown",
   "metadata": {},
   "source": [
    "**Answer: ** \"Well, the chosen model was trained to better distinguish the students who need and who don't need an intervention, the 'needness' factor was labeled as if the student has passed or not. Having them labeled, the algorithm was looking for all the similarities for each group, if they've failed too many exams, have too many absences and so on. Having that similarity, the algorithm has two main 'blocks', one block representing the big majority of students who need intervention and the other one the ones who don't. The algorithm then do its best to separate then with the biggest possible margin, i.e, making the biggest distance between the closests members between blocks while maintain accuracy. So every time a new student comes, the algorithm takes its properties and depending of which block the student is, it will be labeled accordingly.  Those blocks are not exact, in fact, more or less 80% exact in our test. Supposing that the numbers would stay the same, if we consider that we will help 80% of the 33% students who failed, that's equal to 26.4%, plus the 67% who passed, we will have a completion rate of 93.4%. This 1.6% from the wished value can easily come with the variance of the enviroment/students, so I would guess that, if a not so different proportion, the completion rate would stay in between 91% and 96%, way better than the actual 67% and within the wished ratio.\""
   ]
  },
  {
   "cell_type": "markdown",
   "metadata": {},
   "source": [
    "### Implementation: Model Tuning\n",
    "Fine tune the chosen model. Use grid search (`GridSearchCV`) with at least one important parameter tuned with at least 3 different values. You will need to use the entire training set for this. In the code cell below, you will need to implement the following:\n",
    "- Import [`sklearn.grid_search.gridSearchCV`](http://scikit-learn.org/stable/modules/generated/sklearn.grid_search.GridSearchCV.html) and [`sklearn.metrics.make_scorer`](http://scikit-learn.org/stable/modules/generated/sklearn.metrics.make_scorer.html).\n",
    "- Create a dictionary of parameters you wish to tune for the chosen model.\n",
    " - Example: `parameters = {'parameter' : [list of values]}`.\n",
    "- Initialize the classifier you've chosen and store it in `clf`.\n",
    "- Create the F<sub>1</sub> scoring function using `make_scorer` and store it in `f1_scorer`.\n",
    " - Set the `pos_label` parameter to the correct value!\n",
    "- Perform grid search on the classifier `clf` using `f1_scorer` as the scoring method, and store it in `grid_obj`.\n",
    "- Fit the grid search object to the training data (`X_train`, `y_train`), and store it in `grid_obj`."
   ]
  },
  {
   "cell_type": "code",
   "execution_count": 30,
   "metadata": {
    "collapsed": false
   },
   "outputs": [
    {
     "name": "stdout",
     "output_type": "stream",
     "text": [
      "Made predictions in 0.0020 seconds.\n",
      "Tuned model has a training F1 score of 0.8365.\n",
      "Made predictions in 0.0010 seconds.\n",
      "Tuned model has a testing F1 score of 0.8000.\n"
     ]
    }
   ],
   "source": [
    "from sklearn.grid_search import GridSearchCV\n",
    "from sklearn.metrics import make_scorer\n",
    "from sklearn import preprocessing\n",
    "# TODO: Create the parameters list you wish to tune\n",
    "parameters = {'kernel':('linear', 'rbf'), 'C':[1e-2,1, 10,20,50,100],'gamma': [1e-6,1e-4,1e-5,1,10]}\n",
    "\n",
    "# Normalize data\n",
    "normalizer = preprocessing.Normalizer(norm='l1').fit(X_train)\n",
    "\n",
    "X_train_norm = normalizer.transform(X_train)\n",
    "X_test_norm = normalizer.transform(X_test)\n",
    "\n",
    "\n",
    "clf = SVC(random_state = 23)#svm.SVC(random_state = 23)#\n",
    "\n",
    "# TODO: Make an f1 scoring function using 'make_scorer' \n",
    "f1_scorer = make_scorer(f1_score)\n",
    "\n",
    "# TODO: Perform grid search on the classifier using the f1_scorer as the scoring method\n",
    "grid_obj = GridSearchCV(clf, parameters, scoring=f1_scorer)\n",
    "\n",
    "# TODO: Fit the grid search object to the training data and find the optimal parameters\n",
    "\n",
    "grid_obj = grid_obj.fit(X_train_norm,y_train)\n",
    "\n",
    "\n",
    "# Get the estimator\n",
    "clf = grid_obj.best_estimator_\n",
    "\n",
    "# Report the final F1 score for training and testing after parameter tuning\n",
    "print \"Tuned model has a training F1 score of {:.4f}.\".format(predict_labels(clf, X_train_norm, y_train))\n",
    "print \"Tuned model has a testing F1 score of {:.4f}.\".format(predict_labels(clf, X_test_norm, y_test))"
   ]
  },
  {
   "cell_type": "markdown",
   "metadata": {},
   "source": [
    "### Question 5 - Final F<sub>1</sub> Score\n",
    "*What is the final model's F<sub>1</sub> score for training and testing? How does that score compare to the untuned model?*"
   ]
  },
  {
   "cell_type": "markdown",
   "metadata": {},
   "source": [
    "**Answer: ** For the training set we have a F1 score that went from 0.8821 to 0.8365 and for the test set we went from 0.7949 to 0.8. In general the improvement in the testing set wasn't so big, we see, however, that the gap betweem test and train has reduced and therefore it can indicates that the model has become more robust in respect to generalization, with an more constant accuracy."
   ]
  },
  {
   "cell_type": "markdown",
   "metadata": {},
   "source": [
    "> **Note**: Once you have completed all of the code implementations and successfully answered each question above, you may finalize your work by exporting the iPython Notebook as an HTML document. You can do this by using the menu above and navigating to  \n",
    "**File -> Download as -> HTML (.html)**. Include the finished document along with this notebook as your submission."
   ]
  }
 ],
 "metadata": {
  "anaconda-cloud": {},
  "kernelspec": {
   "display_name": "Python [Root]",
   "language": "python",
   "name": "Python [Root]"
  },
  "language_info": {
   "codemirror_mode": {
    "name": "ipython",
    "version": 2
   },
   "file_extension": ".py",
   "mimetype": "text/x-python",
   "name": "python",
   "nbconvert_exporter": "python",
   "pygments_lexer": "ipython2",
   "version": "2.7.12"
  }
 },
 "nbformat": 4,
 "nbformat_minor": 0
}
