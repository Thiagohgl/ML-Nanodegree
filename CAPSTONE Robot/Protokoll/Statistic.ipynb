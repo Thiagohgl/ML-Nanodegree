{
 "cells": [
  {
   "cell_type": "code",
   "execution_count": 1,
   "metadata": {
    "collapsed": true
   },
   "outputs": [],
   "source": [
    "import numpy as np\n",
    "import matplotlib.pyplot as plt"
   ]
  },
  {
   "cell_type": "code",
   "execution_count": null,
   "metadata": {
    "collapsed": false
   },
   "outputs": [],
   "source": [
    "# Results\n",
    "\n",
    "# final algorithm\n",
    "ResultsStepsFinal = [17.,33.,36.]\n",
    "ResultsTrainFinal = [186,234,292]\n",
    "ResultsScoreFinal = [23.23, 40.83, 45.767]\n",
    "\n",
    "# Just A* algorithm\n",
    "ResultsStepsAstar = [43,47,47]\n",
    "ResultsTrainAstar = [31,57,75]\n",
    "ResultsScoreAstar = [44.067, 48.93, 49.53]\n",
    "\n",
    "# A* go and return\n",
    "\n",
    "ResultsStepsAstar = [26,44,42]\n",
    "ResultsTrainAstar = [99,129,156 ]\n",
    "ResultsScoreAstar = [29.333,48.33,47.23]\n",
    "\n",
    "Benchmark_score = [44.1,48.867,50.5]\n",
    "Benchmark_solution = [43,55,74]\n",
    "Real_best_solution = [17,23,25]\n",
    "\n",
    "\n",
    "# Plot. Just change the variables accordingly to plot \n",
    "index = np.arange(0,3)\n",
    "bar_width = 0.1\n",
    "opacity = 0.4\n",
    "\n",
    "rects1 = plt.bar(index, ResultsScoreFinal, bar_width,\n",
    "                 alpha=opacity,\n",
    "                 color='b',\n",
    "\n",
    "                 label='Score solution')\n",
    "\n",
    "#rects2 = plt.bar(index + bar_width, Real_best_solution, bar_width,\n",
    "                 #alpha=opacity,\n",
    "                 #color='r',\n",
    "\n",
    "                 #label='Best solution')\n",
    "\n",
    "rects3 = plt.bar(index + bar_width, Benchmark_score, bar_width,\n",
    "                 alpha=opacity,\n",
    "                 color='k',\n",
    "\n",
    "                 label='Benchmark score')\n",
    "\n",
    "            \n",
    "#Mean_error = np.mean((np.array(ResultsStepsFinal)/np.array(Real_best_solution) - 1)*100)\n",
    "\n",
    "plt.xlabel('Mazes')\n",
    "plt.ylabel('Steps')\n",
    "#plt.title('Best path steps for final model and benchmark')\n",
    "plt.title('Comparison of scores')\n",
    "plt.xticks(index + bar_width, ('Maze 1', 'Maze 2', 'Maze 3'))\n",
    "plt.legend()\n",
    "\n",
    "plt.show()"
   ]
  },
  {
   "cell_type": "code",
   "execution_count": 13,
   "metadata": {
    "collapsed": false
   },
   "outputs": [
    {
     "data": {
      "text/plain": [
       "10.11904761904762"
      ]
     },
     "execution_count": 13,
     "metadata": {},
     "output_type": "execute_result"
    }
   ],
   "source": []
  },
  {
   "cell_type": "code",
   "execution_count": null,
   "metadata": {
    "collapsed": true
   },
   "outputs": [],
   "source": []
  }
 ],
 "metadata": {
  "anaconda-cloud": {},
  "kernelspec": {
   "display_name": "Python [Root]",
   "language": "python",
   "name": "Python [Root]"
  },
  "language_info": {
   "codemirror_mode": {
    "name": "ipython",
    "version": 2
   },
   "file_extension": ".py",
   "mimetype": "text/x-python",
   "name": "python",
   "nbconvert_exporter": "python",
   "pygments_lexer": "ipython2",
   "version": "2.7.12"
  }
 },
 "nbformat": 4,
 "nbformat_minor": 0
}
